{
 "cells": [
  {
   "cell_type": "code",
   "execution_count": 3,
   "id": "3ed20cf7-ecc5-4f4b-a627-b6b413db11e1",
   "metadata": {},
   "outputs": [
    {
     "name": "stdin",
     "output_type": "stream",
     "text": [
      "Enter temperature in Celsius:  23\n"
     ]
    },
    {
     "name": "stdout",
     "output_type": "stream",
     "text": [
      "Temperature in Fahrenheit: 73.4\n"
     ]
    }
   ],
   "source": [
    "# Convert a temperature from Celsius to Fahrenheit\n",
    "celsius_temperature = float(input(\"Enter temperature in Celsius: \"))\n",
    "fahrenheit_temperature = (celsius_temperature * 9/5) + 32\n",
    "print(\"Temperature in Fahrenheit:\", fahrenheit_temperature)"
   ]
  },
  {
   "cell_type": "code",
   "execution_count": 15,
   "id": "b9858a9f-15cc-4e59-9b9c-2afd5eb242e3",
   "metadata": {},
   "outputs": [
    {
     "name": "stdout",
     "output_type": "stream",
     "text": [
      "the second largest number is: 30\n"
     ]
    }
   ],
   "source": [
    "# Find the second largest element in a list\n",
    "list1=[10,20,30,40]\n",
    "list2=list(set(list1))\n",
    "list2.sort()\n",
    "print(\"the second largest number is:\",list2[-2])"
   ]
  },
  {
   "cell_type": "code",
   "execution_count": 6,
   "id": "6b1d162c-3979-4dd0-ad54-6d29f007ef78",
   "metadata": {},
   "outputs": [
    {
     "name": "stdout",
     "output_type": "stream",
     "text": [
      "Occurrences of each element: {1: 1, 2: 1, 3: 1, 4: 1, 5: 1}\n"
     ]
    }
   ],
   "source": [
    "# Count the occurrences of each element in a list\n",
    "occurrences = {}\n",
    "for item in my_list:\n",
    "    occurrences[item] = occurrences.get(item, 0) + 1\n",
    "print(\"Occurrences of each element:\", occurrences)"
   ]
  },
  {
   "cell_type": "code",
   "execution_count": 7,
   "id": "05c11e25-66ee-4c42-80db-bc7d9f0b19f9",
   "metadata": {},
   "outputs": [
    {
     "name": "stdout",
     "output_type": "stream",
     "text": [
      "Sum of even numbers: 6\n"
     ]
    }
   ],
   "source": [
    "# Find the sum of all even numbers in a list\n",
    "even_sum = sum(num for num in my_list if num % 2 == 0)\n",
    "print(\"Sum of even numbers:\", even_sum)\n"
   ]
  },
  {
   "cell_type": "code",
   "execution_count": 8,
   "id": "824b48bb-3ad5-461c-9aeb-e53eeebc1c36",
   "metadata": {},
   "outputs": [
    {
     "name": "stdin",
     "output_type": "stream",
     "text": [
      "Enter a string:  1 2 3 4 5\n"
     ]
    },
    {
     "name": "stdout",
     "output_type": "stream",
     "text": [
      "Number of vowels: 0\n"
     ]
    }
   ],
   "source": [
    "# Count the number of vowels in a string\n",
    "my_string = input(\"Enter a string: \")\n",
    "vowel_count = sum(1 for char in my_string if char in 'aeiouAEIOU')\n",
    "print(\"Number of vowels:\", vowel_count)"
   ]
  },
  {
   "cell_type": "code",
   "execution_count": 9,
   "id": "749f62c9-cb41-4b9b-910c-fa924091f994",
   "metadata": {},
   "outputs": [
    {
     "name": "stdin",
     "output_type": "stream",
     "text": [
      "Enter a sentence:  syeda tanzeemunissa\n"
     ]
    },
    {
     "name": "stdout",
     "output_type": "stream",
     "text": [
      "Reversed sentence: tanzeemunissa syeda\n"
     ]
    }
   ],
   "source": [
    "# Reverse the words in a given sentence\n",
    "sentence = input(\"Enter a sentence: \")\n",
    "reversed_words = ' '.join(sentence.split()[::-1])\n",
    "print(\"Reversed sentence:\", reversed_words)"
   ]
  },
  {
   "cell_type": "code",
   "execution_count": 14,
   "id": "38bae40e-4fef-47c1-975b-cadb35f717ed",
   "metadata": {},
   "outputs": [
    {
     "ename": "SyntaxError",
     "evalue": "expected ':' (4268722448.py, line 12)",
     "output_type": "error",
     "traceback": [
      "\u001b[1;36m  Cell \u001b[1;32mIn[14], line 12\u001b[1;36m\u001b[0m\n\u001b[1;33m    with replace(\"Banana\", \"Watermelon\")\u001b[0m\n\u001b[1;37m                                        ^\u001b[0m\n\u001b[1;31mSyntaxError\u001b[0m\u001b[1;31m:\u001b[0m expected ':'\n"
     ]
    }
   ],
   "source": []
  },
  {
   "cell_type": "code",
   "execution_count": null,
   "id": "e9299908-10c5-4837-b02f-2e7a3367df96",
   "metadata": {},
   "outputs": [],
   "source": []
  }
 ],
 "metadata": {
  "kernelspec": {
   "display_name": "Python 3 (ipykernel)",
   "language": "python",
   "name": "python3"
  },
  "language_info": {
   "codemirror_mode": {
    "name": "ipython",
    "version": 3
   },
   "file_extension": ".py",
   "mimetype": "text/x-python",
   "name": "python",
   "nbconvert_exporter": "python",
   "pygments_lexer": "ipython3",
   "version": "3.12.3"
  }
 },
 "nbformat": 4,
 "nbformat_minor": 5
}
