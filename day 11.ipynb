{
 "cells": [
  {
   "cell_type": "code",
   "execution_count": 6,
   "id": "bfd36ac1-7631-4261-aeee-9d0ff4013b82",
   "metadata": {},
   "outputs": [
    {
     "name": "stdout",
     "output_type": "stream",
     "text": [
      "1 --> 2 --> 3 --> 4 --> 5 -->\n"
     ]
    }
   ],
   "source": [
    "#OPERTIONS ON LINKED LISTS\n",
    "class node:\n",
    "    def __init__(self,value):\n",
    "        self.data=value\n",
    "        self.next=None\n",
    "\n",
    "head=node(1)\n",
    "head.next=node(2)\n",
    "head.next.next=node(3)\n",
    "head.next.next.next=node(4)\n",
    "head.next.next.next.next=node(5)\n",
    "\n",
    "print(head.data,\"-->\",\n",
    "head.next.data,\"-->\",\n",
    "head.next.next.data,\"-->\",\n",
    "head.next.next.next.data,\"-->\",\n",
    "head.next.next.next.next.data,\"-->\")"
   ]
  },
  {
   "cell_type": "code",
   "execution_count": 8,
   "id": "6b278edd-219e-499f-bbb4-9c9ff5c91b03",
   "metadata": {},
   "outputs": [
    {
     "name": "stdin",
     "output_type": "stream",
     "text": [
      " 0\n"
     ]
    },
    {
     "name": "stdout",
     "output_type": "stream",
     "text": [
      "0\n",
      "0 --> 1 --> 2 --> 3 --> 4 --> 5 -->\n"
     ]
    }
   ],
   "source": [
    "#start insert\n",
    "x=int(input())\n",
    "temp=node(x)\n",
    "temp.next=head\n",
    "head=temp\n",
    "print(head.data)\n",
    "\n",
    "#to display\n",
    "print(head.data,\"-->\",\n",
    "head.next.data,\"-->\",\n",
    "head.next.next.data,\"-->\",\n",
    "head.next.next.next.data,\"-->\",\n",
    "head.next.next.next.next.data,\"-->\",\n",
    "head.next.next.next.next.next.data,\"-->\")"
   ]
  },
  {
   "cell_type": "code",
   "execution_count": 9,
   "id": "434417ef-774e-48bc-8475-d1b497e58441",
   "metadata": {},
   "outputs": [
    {
     "name": "stdin",
     "output_type": "stream",
     "text": [
      " 0\n"
     ]
    },
    {
     "name": "stdout",
     "output_type": "stream",
     "text": [
      "0 --> 1 --> 2 --> 3 --> 4 --> 5 --> 0 --> "
     ]
    }
   ],
   "source": [
    "#end insert\n",
    "x=int(input())\n",
    "temp=node(x)\n",
    "curr=head\n",
    "if curr==None:\n",
    "    head=temp\n",
    "else:\n",
    "    while curr.next!=None:\n",
    "        curr=curr.next\n",
    "    curr.next=temp \n",
    "    \n",
    "#to display\n",
    "curr=head\n",
    "while curr!=None:\n",
    "    print(curr.data,\"-->\",end=\" \")\n",
    "    curr=curr.next"
   ]
  },
  {
   "cell_type": "code",
   "execution_count": 10,
   "id": "7e7aa4c4-990a-4d2c-871f-fd773265ab0f",
   "metadata": {},
   "outputs": [
    {
     "name": "stdout",
     "output_type": "stream",
     "text": [
      "1 --> 2 --> 3 --> 4 --> 5 -->\n"
     ]
    },
    {
     "name": "stdin",
     "output_type": "stream",
     "text": [
      " 1\n"
     ]
    },
    {
     "name": "stdout",
     "output_type": "stream",
     "text": [
      "1\n",
      "1 --> 1 --> 2 --> 3 --> 4 --> 5 -->\n"
     ]
    },
    {
     "name": "stdin",
     "output_type": "stream",
     "text": [
      " 2\n"
     ]
    },
    {
     "name": "stdout",
     "output_type": "stream",
     "text": [
      "1 --> 1 --> 2 --> 3 --> 4 --> 5 --> 2 --> "
     ]
    }
   ],
   "source": [
    "#OPERTIONS ON LINKED LISTS\n",
    "class node:\n",
    "    def __init__(self,value):\n",
    "        self.data=value\n",
    "        self.next=None\n",
    "\n",
    "head=node(1)\n",
    "head.next=node(2)\n",
    "head.next.next=node(3)\n",
    "head.next.next.next=node(4)\n",
    "head.next.next.next.next=node(5)\n",
    "\n",
    "print(head.data,\"-->\",\n",
    "head.next.data,\"-->\",\n",
    "head.next.next.data,\"-->\",\n",
    "head.next.next.next.data,\"-->\",\n",
    "head.next.next.next.next.data,\"-->\")\n",
    "#start insert\n",
    "x=int(input())\n",
    "temp=node(x)\n",
    "temp.next=head\n",
    "head=temp\n",
    "print(head.data)\n",
    "\n",
    "#to display\n",
    "print(head.data,\"-->\",\n",
    "head.next.data,\"-->\",\n",
    "head.next.next.data,\"-->\",\n",
    "head.next.next.next.data,\"-->\",\n",
    "head.next.next.next.next.data,\"-->\",\n",
    "head.next.next.next.next.next.data,\"-->\")\n",
    "#end insert\n",
    "x=int(input())\n",
    "temp=node(x)\n",
    "curr=head\n",
    "if curr==None:\n",
    "    head=temp\n",
    "else:\n",
    "    while curr.next!=None:\n",
    "        curr=curr.next\n",
    "    curr.next=temp \n",
    "    \n",
    "#to display\n",
    "curr=head\n",
    "while curr!=None:\n",
    "    print(curr.data,\"-->\",end=\" \")\n",
    "    curr=curr.next\n"
   ]
  },
  {
   "cell_type": "code",
   "execution_count": 2,
   "id": "c111bb06-1f20-439a-b550-850f0ecdea6a",
   "metadata": {},
   "outputs": [
    {
     "name": "stdout",
     "output_type": "stream",
     "text": [
      "1\n",
      "2\n",
      "4\n",
      "5\n",
      "3\n",
      "6\n",
      "7\n",
      "4\n",
      "5\n",
      "2\n",
      "6\n",
      "7\n",
      "3\n",
      "1\n",
      "4\n",
      "2\n",
      "5\n",
      "1\n",
      "6\n",
      "3\n",
      "7\n"
     ]
    }
   ],
   "source": [
    "class node:\n",
    "    def __init__(self,value):\n",
    "        self.data=value\n",
    "        self.left=None\n",
    "        self.right=None\n",
    "\n",
    "def preorder(root):\n",
    "    if root==None:\n",
    "        return\n",
    "    print(root.data)\n",
    "    preorder(root.left)\n",
    "    preorder(root.right)\n",
    "\n",
    "\n",
    "root=node(1)\n",
    "root.left=node(2)\n",
    "root.right=node(3)\n",
    "\n",
    "root.left.left=node(4)\n",
    "root.left.right=node(5)\n",
    "\n",
    "root.right.left=node(6)\n",
    "root.right.right=node(7)\n",
    "\n",
    "preorder(root)\n",
    "\n",
    "def postorder(root):\n",
    "    if root==None:\n",
    "        return\n",
    "    postorder(root.left)\n",
    "    postorder(root.right)\n",
    "    print(root.data)\n",
    "\n",
    "\n",
    "root=node(1)\n",
    "root.left=node(2)\n",
    "root.right=node(3)\n",
    "\n",
    "root.left.left=node(4)\n",
    "root.left.right=node(5)\n",
    "\n",
    "root.right.left=node(6)\n",
    "root.right.right=node(7)\n",
    "\n",
    "postorder(root)\n",
    "\n",
    "def inorder(root):\n",
    "    if root==None:\n",
    "        return\n",
    "    inorder(root.left)\n",
    "    print(root.data)\n",
    "    inorder(root.right)\n",
    "\n",
    "\n",
    "root=node(1)\n",
    "root.left=node(2)\n",
    "root.right=node(3)\n",
    "\n",
    "root.left.left=node(4)\n",
    "root.left.right=node(5)\n",
    "\n",
    "root.right.left=node(6)\n",
    "root.right.right=node(7)\n",
    "\n",
    "inorder(root)"
   ]
  },
  {
   "cell_type": "code",
   "execution_count": 3,
   "id": "313bed34-8221-44df-80b8-a7ac80e7ea5a",
   "metadata": {},
   "outputs": [
    {
     "name": "stdout",
     "output_type": "stream",
     "text": [
      "preorder\n",
      "1\n",
      "2\n",
      "4\n",
      "5\n",
      "3\n",
      "6\n",
      "7\n",
      "postorder\n",
      "4\n",
      "5\n",
      "2\n",
      "6\n",
      "7\n",
      "3\n",
      "1\n",
      "inorder\n",
      "4\n",
      "2\n",
      "5\n",
      "1\n",
      "6\n",
      "3\n",
      "7\n",
      "level order\n",
      "1 \n",
      "2 3 \n",
      "4 5 6 7 \n"
     ]
    }
   ],
   "source": [
    "#complete binary tree\n",
    "class node:\n",
    "    def __init__(self,value):\n",
    "        self.data=value\n",
    "        self.left=None\n",
    "        self.right=None\n",
    "\n",
    "def preorder(root):\n",
    "    if root==None:\n",
    "        return\n",
    "    print(root.data)\n",
    "    preorder(root.left)\n",
    "    preorder(root.right)\n",
    "\n",
    "\n",
    "root=node(1)\n",
    "root.left=node(2)\n",
    "root.right=node(3)\n",
    "\n",
    "root.left.left=node(4)\n",
    "root.left.right=node(5)\n",
    "\n",
    "root.right.left=node(6)\n",
    "root.right.right=node(7)\n",
    "\n",
    "print(\"preorder\")\n",
    "preorder(root)\n",
    "\n",
    "def postorder(root):\n",
    "    if root==None:\n",
    "        return\n",
    "    postorder(root.left)\n",
    "    postorder(root.right)\n",
    "    print(root.data,)\n",
    "\n",
    "\n",
    "root=node(1)\n",
    "root.left=node(2)\n",
    "root.right=node(3)\n",
    "\n",
    "root.left.left=node(4)\n",
    "root.left.right=node(5)\n",
    "\n",
    "root.right.left=node(6)\n",
    "root.right.right=node(7)\n",
    "\n",
    "print(\"postorder\")\n",
    "postorder(root)\n",
    "\n",
    "def inorder(root):\n",
    "    if root==None:\n",
    "        return\n",
    "    inorder(root.left)\n",
    "    print(root.data)\n",
    "    inorder(root.right)\n",
    "\n",
    "\n",
    "root=node(1)\n",
    "root.left=node(2)\n",
    "root.right=node(3)\n",
    "\n",
    "root.left.left=node(4)\n",
    "root.left.right=node(5)\n",
    "\n",
    "root.right.left=node(6)\n",
    "root.right.right=node(7)\n",
    "\n",
    "print(\"inorder\")\n",
    "inorder(root)\n",
    "\n",
    "def levelorder(root):\n",
    "    Q=[root,None]\n",
    "    while Q:\n",
    "        curr=Q.pop(0)\n",
    "        if curr == None:\n",
    "            print()\n",
    "            if Q:\n",
    "                Q.append(curr)\n",
    "        else:\n",
    "            print(curr.data,end=\" \")\n",
    "            if curr.left!=None:\n",
    "                Q.append(curr.left)\n",
    "\n",
    "            if curr.right!=None:\n",
    "                Q.append(curr.right)\n",
    "    if root==None:\n",
    "        return\n",
    "\n",
    "root=node(1)\n",
    "root.left=node(2)\n",
    "root.right=node(3)\n",
    "\n",
    "root.left.left=node(4)\n",
    "root.left.right=node(5)\n",
    "\n",
    "root.right.left=node(6)\n",
    "root.right.right=node(7)\n",
    "\n",
    "print(\"level order\")\n",
    "levelorder(root)"
   ]
  },
  {
   "cell_type": "code",
   "execution_count": null,
   "id": "e94f2eb2-05bc-4859-a474-be8188ceab83",
   "metadata": {},
   "outputs": [],
   "source": []
  }
 ],
 "metadata": {
  "kernelspec": {
   "display_name": "Python 3 (ipykernel)",
   "language": "python",
   "name": "python3"
  },
  "language_info": {
   "codemirror_mode": {
    "name": "ipython",
    "version": 3
   },
   "file_extension": ".py",
   "mimetype": "text/x-python",
   "name": "python",
   "nbconvert_exporter": "python",
   "pygments_lexer": "ipython3",
   "version": "3.12.3"
  }
 },
 "nbformat": 4,
 "nbformat_minor": 5
}
