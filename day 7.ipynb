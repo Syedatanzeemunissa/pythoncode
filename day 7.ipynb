{
 "cells": [
  {
   "cell_type": "code",
   "execution_count": 53,
   "id": "d0ac2086-f8f2-4f3a-afde-ab579cee7034",
   "metadata": {},
   "outputs": [
    {
     "name": "stdout",
     "output_type": "stream",
     "text": [
      "33\n"
     ]
    }
   ],
   "source": [
    "#find the maximum sum of any 3 consecutive elements of this array\n",
    "L=[8,7,6,4,5,6,7,8,4,5,6,7,2,4,8,4,5,6,7,2,4,3,1,2,4,0,9,7,8,4,5,6,7,2,4,8,4,5,6,7,2,4,8,9,6,5,4,3,1,2,4,0,9,7,8,4,5,6,7,2,4,8,9,6,5,4,3,2,1]\n",
    "max = 0\n",
    "for i in range(0,len(L)-4):\n",
    "    sum=L[i]+L[i+1]+L[i+2]+L[i+3]+L[i+4]\n",
    "    if(max<sum):\n",
    "        max=sum\n",
    "print(max)        "
   ]
  },
  {
   "cell_type": "code",
   "execution_count": 59,
   "id": "e60b2362-7033-4dc7-82e4-c241a180bf62",
   "metadata": {},
   "outputs": [
    {
     "name": "stdin",
     "output_type": "stream",
     "text": [
      "enter the number of consecutive elements to be added: 5\n"
     ]
    },
    {
     "name": "stdout",
     "output_type": "stream",
     "text": [
      "33\n"
     ]
    }
   ],
   "source": [
    "#find the maximum sum of any 3 consecutive elements of this array\n",
    "L=[8,7,6,4,5,6,7,1,2,4,0,9,7,8,4,5,6,7,2,4,8,9,6,5,4,3,2,1]\n",
    "n=int(input(\"enter the number of consecutive elements to be added:\"))\n",
    "max= 0\n",
    "for i in range(0,len(L)-(n-1)):\n",
    "    sum=0\n",
    "    for j in range(0,n):\n",
    "        sum=sum+L[i+j]\n",
    "    if max<sum:\n",
    "        max=sum\n",
    "print(max)"
   ]
  },
  {
   "cell_type": "code",
   "execution_count": 1,
   "id": "fa2b043d-58d6-488f-ab43-2ea9d2735d49",
   "metadata": {},
   "outputs": [
    {
     "name": "stdin",
     "output_type": "stream",
     "text": [
      "enter the number of consecutive elements to be added: 5\n"
     ]
    },
    {
     "name": "stdout",
     "output_type": "stream",
     "text": [
      "33\n"
     ]
    }
   ],
   "source": [
    "L = [8, 7, 6, 4, 5, 6, 7, 1, 2, 4, 0, 9, 7, 8, 4, 5, 6, 7, 2, 4, 8, 9, 6, 5, 4, 3, 2, 1]\n",
    "max = sum = 0\n",
    "n=int(input(\"enter the number of consecutive elements to be added:\"))\n",
    "for i in range(0,n):\n",
    "    sum=sum+L[i]\n",
    "for x in range(0,len(L)-n-1):\n",
    "        if max<sum:\n",
    "             max=sum\n",
    "        sum=sum+L[x+n]-L[x]\n",
    "print(max)\n"
   ]
  },
  {
   "cell_type": "code",
   "execution_count": null,
   "id": "9565806c-dd9f-49cd-a5a2-4359a4083b7f",
   "metadata": {},
   "outputs": [],
   "source": []
  }
 ],
 "metadata": {
  "kernelspec": {
   "display_name": "Python 3 (ipykernel)",
   "language": "python",
   "name": "python3"
  },
  "language_info": {
   "codemirror_mode": {
    "name": "ipython",
    "version": 3
   },
   "file_extension": ".py",
   "mimetype": "text/x-python",
   "name": "python",
   "nbconvert_exporter": "python",
   "pygments_lexer": "ipython3",
   "version": "3.12.3"
  }
 },
 "nbformat": 4,
 "nbformat_minor": 5
}
