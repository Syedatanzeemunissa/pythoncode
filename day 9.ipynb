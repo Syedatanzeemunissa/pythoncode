{
 "cells": [
  {
   "cell_type": "code",
   "execution_count": 6,
   "id": "18fb6078-091a-4e42-96aa-bc3c951f93f7",
   "metadata": {},
   "outputs": [
    {
     "name": "stdout",
     "output_type": "stream",
     "text": [
      "Original string: syeda tanzeemunissa\n",
      "Reversed string: assinumeeznat adeys\n"
     ]
    }
   ],
   "source": [
    "def reverse_string(input_str):\n",
    "    stack = []\n",
    "    for char in input_str:\n",
    "        stack.append(char)\n",
    "    \n",
    "    reversed_str = ''\n",
    "    while stack:\n",
    "        reversed_str += stack.pop()\n",
    "    \n",
    "    return reversed_str\n",
    "\n",
    "input_str = \"syeda tanzeemunissa\"\n",
    "reversed_str = reverse_string(input_str)\n",
    "print(\"Original string:\", input_str)\n",
    "print(\"Reversed string:\", reversed_str)"
   ]
  },
  {
   "cell_type": "code",
   "execution_count": 22,
   "id": "97b423b7-1b51-45c2-919e-e9ce74f13bd4",
   "metadata": {},
   "outputs": [
    {
     "name": "stdin",
     "output_type": "stream",
     "text": [
      " syeda\n"
     ]
    },
    {
     "name": "stdout",
     "output_type": "stream",
     "text": [
      "adeys"
     ]
    }
   ],
   "source": [
    "a=input()\n",
    "stack=[]\n",
    "for e in a:\n",
    "    stack.append(e)\n",
    "while len(stack)>0:\n",
    "    print(stack.pop(),end=\"\")\n",
    "    \n",
    "    "
   ]
  },
  {
   "cell_type": "code",
   "execution_count": 23,
   "id": "d35126b0-6635-430d-a458-8fdc7b530110",
   "metadata": {},
   "outputs": [
    {
     "name": "stdin",
     "output_type": "stream",
     "text": [
      " hey this is syeda tanzeem\n"
     ]
    },
    {
     "name": "stdout",
     "output_type": "stream",
     "text": [
      "tanzeem syeda is this hey "
     ]
    }
   ],
   "source": [
    "a=input()\n",
    "stack=[]\n",
    "for e in a.split():\n",
    "    stack.append(e)\n",
    "while len(stack)>0:\n",
    "    print(stack.pop(),end=\" \")\n",
    "    "
   ]
  },
  {
   "cell_type": "code",
   "execution_count": null,
   "id": "4fe1530c-8b97-42e0-afa1-a704f4b765aa",
   "metadata": {},
   "outputs": [],
   "source": [
    "# ^= 3\n",
    "*,/ =2\n",
    "+,- =1"
   ]
  },
  {
   "cell_type": "code",
   "execution_count": 33,
   "id": "52104c76-d268-40de-a2ae-48383ac09886",
   "metadata": {},
   "outputs": [
    {
     "name": "stdin",
     "output_type": "stream",
     "text": [
      " a+b\n"
     ]
    },
    {
     "name": "stdout",
     "output_type": "stream",
     "text": [
      " ab+\n"
     ]
    }
   ],
   "source": [
    "exp= input()\n",
    "s=[]\n",
    "result=\" \"\n",
    "for e in exp:\n",
    "    if e.isalnum():\n",
    "        result +=e\n",
    "    elif e == \"(\":\n",
    "        s.append(e)\n",
    "    elif e == \")\":\n",
    "        while s[-1] != \"(\":\n",
    "            result +=s.pop()\n",
    "        s.pop()  \n",
    "    else:\n",
    "        while s and (prec(e)<prec(s[-1]) or\n",
    "                     (prec(e)<prec(s[-1]) and asoc(e)=='L')):\n",
    "            result +=s.pop()\n",
    "        s.append(e)\n",
    "while s:\n",
    "    result +=s.pop()\n",
    "print(result)    \n",
    "    \n",
    "        "
   ]
  },
  {
   "cell_type": "code",
   "execution_count": null,
   "id": "9b3e6806-1028-4806-8ac0-2390b4ab2b4e",
   "metadata": {},
   "outputs": [],
   "source": [
    "#in a arcade game, there is a king who get spelled by a witch that whenever he eat he have to take care of what is sequenece of his food intake \n",
    "if he eats similar food one after other it will cancel out the its effect and total energy was decreased \n",
    "your task is to detemine the total energy of the king after his meal\n",
    "example:\n",
    "\n",
    "[\"apple\",\"dal\",\"chapati\",\"rice\",\"rice\",\"apple\",\"apple\",\"dal\",\"rice\",\"dal\",\"chapati\",\"chapati\"]\n",
    "\n",
    "consider that energy released by each item will be same which is 1 unit\n",
    "so the total energy intake is 6 unit as per above example\n",
    "\n",
    "[\"apple\",\"dal\",\"chapati\",\"dal\",\"rice\",\"dal\"]\n",
    "\n",
    "write a code to find the energy stored by the king after have all the food"
   ]
  },
  {
   "cell_type": "code",
   "execution_count": 34,
   "id": "7dc7d122-fb7d-4f6b-bf2e-1f3992cb5326",
   "metadata": {},
   "outputs": [
    {
     "name": "stdout",
     "output_type": "stream",
     "text": [
      "Total energy intake: 6\n"
     ]
    }
   ],
   "source": [
    "def calculate_energy(foods):\n",
    "    energy = 0\n",
    "    prev_food = None\n",
    "    for food in foods:\n",
    "        if food == prev_food:\n",
    "            energy -= 1  \n",
    "        else:\n",
    "            energy += 1 \n",
    "            prev_food = food\n",
    "    return energy\n",
    "foods = [\"apple\", \"dal\", \"chapati\", \"rice\", \"rice\", \"apple\", \"apple\", \"dal\", \"rice\", \"dal\", \"chapati\", \"chapati\"]\n",
    "total_energy = calculate_energy(foods)\n",
    "print(\"Total energy intake:\", total_energy)\n"
   ]
  },
  {
   "cell_type": "code",
   "execution_count": 39,
   "id": "93bf832e-1c0f-4504-96b6-07fac56cb6d1",
   "metadata": {},
   "outputs": [
    {
     "name": "stdin",
     "output_type": "stream",
     "text": [
      " A D C R R A A D R D C C\n"
     ]
    },
    {
     "name": "stdout",
     "output_type": "stream",
     "text": [
      "['A', 'D', 'C', 'R', 'R', 'A', 'A', 'D', 'R', 'D', 'C', 'C']\n",
      "6 ['A', 'D', 'C', 'D', 'R', 'D']\n"
     ]
    }
   ],
   "source": [
    "a=[item for item in input().split()]\n",
    "print(a)\n",
    "s=[]\n",
    "for item in a:\n",
    "    if not s:\n",
    "        s.append(item)\n",
    "    elif s[-1] == item:\n",
    "        s.pop()\n",
    "    else: \n",
    "        s.append(item) \n",
    "print(len(s),s)        \n",
    "    "
   ]
  },
  {
   "cell_type": "code",
   "execution_count": 1,
   "id": "49e527a7-0387-448a-a2f1-87b188392bba",
   "metadata": {},
   "outputs": [
    {
     "name": "stdout",
     "output_type": "stream",
     "text": [
      "True\n",
      "True\n"
     ]
    }
   ],
   "source": [
    "#opening and closing of brackets should be balanced\n",
    "# {()()} , {({})}\n",
    "def is_balanced(string):\n",
    "    stack = []\n",
    "    for char in string:\n",
    "        if char in ['(', '[', '{']:\n",
    "            stack.append(char)\n",
    "        elif char in [')', ']', '}']:\n",
    "            if not stack:\n",
    "                return False\n",
    "            if char == ')' and stack[-1] == '(':\n",
    "                stack.pop()\n",
    "            elif char == ']' and stack[-1] == '[':\n",
    "                stack.pop()\n",
    "            elif char == '}' and stack[-1] == '{':\n",
    "                stack.pop()\n",
    "            else:\n",
    "                return False\n",
    "    return len(stack) == 0\n",
    "print(is_balanced(\"{()()}\")) \n",
    "print(is_balanced(\"{({})}\"))  \n"
   ]
  },
  {
   "cell_type": "code",
   "execution_count": 3,
   "id": "3889758e-e03d-4547-889f-f63719e60c72",
   "metadata": {},
   "outputs": [
    {
     "name": "stdout",
     "output_type": "stream",
     "text": [
      "True\n",
      "True\n"
     ]
    }
   ],
   "source": [
    "def is_balanced(string):\n",
    "    stack = []\n",
    "    opening_brackets = \"({[\"\n",
    "    closing_brackets = \")}]\"\n",
    "    bracket_pairs = {')': '(', '}': '{', ']': '['}\n",
    "\n",
    "    for char in string:\n",
    "        if char in opening_brackets:\n",
    "            stack.append(char)\n",
    "        elif char in closing_brackets:\n",
    "            if not stack or stack[-1] != bracket_pairs[char]:\n",
    "                return False\n",
    "            stack.pop()\n",
    "    return len(stack) == 0\n",
    "print(is_balanced(\"{()()}\"))  \n",
    "print(is_balanced(\"{({})}\")) \n"
   ]
  },
  {
   "cell_type": "code",
   "execution_count": 4,
   "id": "06495e6c-16e5-4e6e-8acf-8fa095094f7c",
   "metadata": {},
   "outputs": [
    {
     "name": "stdin",
     "output_type": "stream",
     "text": [
      " {[()\n"
     ]
    },
    {
     "name": "stdout",
     "output_type": "stream",
     "text": [
      "invalid\n"
     ]
    }
   ],
   "source": [
    "a = input()\n",
    "s = []\n",
    "\n",
    "for e in a:\n",
    "    if e == '(' or e == '{' or e == '[':\n",
    "        s.append(e)\n",
    "    elif (e == ')' and s[-1] == '(') or (e == '}' and s[-1] == '{') or (e == ']' and s[-1] == '['):\n",
    "        if s:\n",
    "            s.pop()\n",
    "        else:\n",
    "            s.append(e)\n",
    "            break\n",
    "    else:\n",
    "        continue\n",
    "\n",
    "if not s:\n",
    "    print(\"Valid\")\n",
    "else:\n",
    "    print(\"invalid\")"
   ]
  },
  {
   "cell_type": "code",
   "execution_count": null,
   "id": "b695e0b4-f874-4fb3-88e4-08792e0f8eb4",
   "metadata": {},
   "outputs": [],
   "source": []
  }
 ],
 "metadata": {
  "kernelspec": {
   "display_name": "Python 3 (ipykernel)",
   "language": "python",
   "name": "python3"
  },
  "language_info": {
   "codemirror_mode": {
    "name": "ipython",
    "version": 3
   },
   "file_extension": ".py",
   "mimetype": "text/x-python",
   "name": "python",
   "nbconvert_exporter": "python",
   "pygments_lexer": "ipython3",
   "version": "3.12.3"
  }
 },
 "nbformat": 4,
 "nbformat_minor": 5
}
