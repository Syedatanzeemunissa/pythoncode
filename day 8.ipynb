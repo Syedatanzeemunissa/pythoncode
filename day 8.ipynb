{
 "cells": [
  {
   "cell_type": "code",
   "execution_count": 3,
   "id": "9148d3a6-1d05-43a1-b6a7-49962a661368",
   "metadata": {},
   "outputs": [
    {
     "name": "stdout",
     "output_type": "stream",
     "text": [
      "bubble Sorted array: [11, 12, 22, 25, 34, 64, 90]\n"
     ]
    }
   ],
   "source": [
    "arr = [64, 34, 25, 12, 22, 11, 90]\n",
    "n = len(arr)\n",
    "\n",
    "for i in range(n):\n",
    "    for j in range(0, n-i-1):\n",
    "        if arr[j] > arr[j+1]:\n",
    "            arr[j], arr[j+1] = arr[j+1], arr[j]\n",
    "\n",
    "print(\"bubble Sorted array:\", arr)"
   ]
  },
  {
   "cell_type": "code",
   "execution_count": 5,
   "id": "49fa6074-8c84-4799-8f49-bf77b138d536",
   "metadata": {},
   "outputs": [
    {
     "name": "stdout",
     "output_type": "stream",
     "text": [
      "sorted array: [4, 5, 1, 8, 6, 7, 9]\n"
     ]
    }
   ],
   "source": [
    "arr=[5,4,8,1,9,6,7]\n",
    "for i in range(0,len(arr)-1):\n",
    "    if arr[i]>arr[i+1]:\n",
    "        temp=arr[i]\n",
    "        arr[i]=arr[i+1]\n",
    "        arr[i+1]=temp\n",
    "print(\"sorted array:\",arr)        "
   ]
  },
  {
   "cell_type": "code",
   "execution_count": 9,
   "id": "522c9395-37a6-4987-b31d-9a062bc6def4",
   "metadata": {},
   "outputs": [
    {
     "name": "stdout",
     "output_type": "stream",
     "text": [
      "[1, 4, 5, 6, 7, 8, 9]\n"
     ]
    }
   ],
   "source": [
    "arr=[5,4,8,1,9,6,7]\n",
    "for i in range(0,len(arr)):\n",
    "    for j in range(0,len(arr)-1):\n",
    "        if arr[j] > arr[j+1]:\n",
    "            temp=arr[j]\n",
    "            arr[j]=arr[j+1]\n",
    "            arr[j+1]=temp\n",
    "print(arr) "
   ]
  },
  {
   "cell_type": "code",
   "execution_count": 11,
   "id": "1670a14c-94d9-4281-a455-b02b72f12e76",
   "metadata": {},
   "outputs": [
    {
     "name": "stdout",
     "output_type": "stream",
     "text": [
      "[1, 4, 5, 6, 8, 9, 7]\n"
     ]
    }
   ],
   "source": [
    "arr=[5,4,8,1,9,6,7]\n",
    "for i in range(0,len(arr)):\n",
    "    for j in range(0,len(arr)-1):\n",
    "        for k in range(0,len(arr)-2):\n",
    "            if arr[k] > arr[k+1]:\n",
    "                temp=arr[k]\n",
    "                arr[k]=arr[k+1]\n",
    "                arr[k+1]=temp\n",
    "print(arr) "
   ]
  },
  {
   "cell_type": "code",
   "execution_count": 12,
   "id": "d8f3ec7a-a0cd-4cc1-a1ba-9a09892336f0",
   "metadata": {},
   "outputs": [
    {
     "name": "stdout",
     "output_type": "stream",
     "text": [
      "[1, 4, 5, 6, 7, 8, 9]\n"
     ]
    }
   ],
   "source": [
    "#insertion sort\n",
    "arr=[5,4,8,1,9,6,7]\n",
    "for i in range(1,len(arr)):\n",
    "    temp=arr[i]\n",
    "    j=i-1\n",
    "    while j>=0 and temp < arr[j]:\n",
    "        arr[j+1]= arr[j]\n",
    "        j -=1\n",
    "    arr[j+1] = temp\n",
    "print(arr)"
   ]
  },
  {
   "cell_type": "code",
   "execution_count": 13,
   "id": "25e65edc-4f22-44d6-9fa4-33b849e6d2ce",
   "metadata": {},
   "outputs": [
    {
     "name": "stdout",
     "output_type": "stream",
     "text": [
      "[1, 4, 5, 6, 7, 8, 9]\n"
     ]
    }
   ],
   "source": [
    "#selection sort\n",
    "arr=[5,4,8,1,9,6,7]\n",
    "for i in range(0,len(arr)):\n",
    "    min_idx=i\n",
    "    for j in range(i+1,len(arr)):\n",
    "        if arr[min_idx]>arr[j]:\n",
    "            min_idx=j\n",
    "    temp=arr[i]\n",
    "    arr[i]=arr[min_idx]\n",
    "    arr[min_idx]=temp\n",
    "print(arr)"
   ]
  },
  {
   "cell_type": "code",
   "execution_count": 3,
   "id": "b0c610a7-fec0-40ee-8ba8-213ccdfcca3d",
   "metadata": {},
   "outputs": [
    {
     "name": "stdout",
     "output_type": "stream",
     "text": [
      "[10, 20, 30, 40, 50, 53, 60, 64, 70, 75, 80, 86, 87, 90, 97, 98]\n"
     ]
    },
    {
     "name": "stdin",
     "output_type": "stream",
     "text": [
      " 11\n"
     ]
    },
    {
     "name": "stdout",
     "output_type": "stream",
     "text": [
      "item not in list\n",
      "low 0 high 16 mid 8\n",
      "low 0 high 7 mid 3\n",
      "low 0 high 2 mid 1\n",
      "element not found\n"
     ]
    }
   ],
   "source": [
    "L=[10,20,30,40,50,60,70,80,90,98,97,87,86,75,64,53]\n",
    "L.sort()\n",
    "print(L)\n",
    "low=0\n",
    "high = len(L)\n",
    "src=int(input())\n",
    "try:\n",
    "    print(\"index of element is\",L.index(src))\n",
    "except:\n",
    "    print(\"item not in list\")\n",
    "flag=0\n",
    "while low<high:\n",
    "    mid=int(low+(high-low)/2)\n",
    "    print(\"low\",low,\"high\",high,\"mid\",mid)\n",
    "    if src<L[mid]:\n",
    "        high=mid-1\n",
    "    elif src>L[mid]:\n",
    "        low=mid+1\n",
    "    else:\n",
    "        flag=1\n",
    "        break;\n",
    "if flag==1:\n",
    "    print(\"element not found at\",mid)        \n",
    "else:\n",
    "    print(\"element not found\")"
   ]
  },
  {
   "cell_type": "code",
   "execution_count": 8,
   "id": "5fd13370-fac6-45cf-b13c-e01558b6dd29",
   "metadata": {},
   "outputs": [
    {
     "name": "stdin",
     "output_type": "stream",
     "text": [
      " this[s is(a{)]}car\n"
     ]
    },
    {
     "name": "stdout",
     "output_type": "stream",
     "text": [
      "invalid string\n"
     ]
    }
   ],
   "source": [
    "s=input()\n",
    "x=y=z=0\n",
    "for c in s:\n",
    "    match(c):\n",
    "             case '(':x+=1\n",
    "             case ')':x=-1\n",
    "             case '{':y+=1\n",
    "             case '}':y-=1\n",
    "             case '[':z+=1\n",
    "             case ']':z-=1\n",
    "             case _: continue\n",
    "if x+y+z == 0:\n",
    "    print(\"valid string\")\n",
    "else:\n",
    "    print(\"invalid string\")\n",
    "        "
   ]
  },
  {
   "cell_type": "code",
   "execution_count": 9,
   "id": "64d10b04-d2f6-474a-b343-f4b400c46e3c",
   "metadata": {},
   "outputs": [
    {
     "name": "stdout",
     "output_type": "stream",
     "text": [
      "[2, 3, 4, 5, 6, 7]\n",
      "elements popped from stack:\n",
      "7\n",
      "6\n",
      "5\n",
      "4\n",
      "3\n",
      "2\n",
      "\n",
      " stack after elements are popped:\n",
      "[]\n"
     ]
    }
   ],
   "source": [
    "stack=[2,3,4,5,6,7]\n",
    "print(stack)\n",
    "print(\"elements popped from stack:\")\n",
    "print(stack.pop())\n",
    "print(stack.pop())\n",
    "print(stack.pop())\n",
    "print(stack.pop())\n",
    "print(stack.pop())\n",
    "print(stack.pop())\n",
    "print(\"\\n stack after elements are popped:\")\n",
    "print(stack)"
   ]
  },
  {
   "cell_type": "code",
   "execution_count": 19,
   "id": "dd072ae0-134b-47c0-8282-a80a3942d9e1",
   "metadata": {},
   "outputs": [
    {
     "name": "stdout",
     "output_type": "stream",
     "text": [
      "element insert into stack:\n",
      "[9]\n",
      "element insert into stack:\n",
      "[9, 8]\n",
      "element insert into stack:\n",
      "[9, 8, 7]\n",
      "element removed from stack:\n",
      "element removed from stack:\n"
     ]
    },
    {
     "data": {
      "text/plain": [
       "8"
      ]
     },
     "execution_count": 19,
     "metadata": {},
     "output_type": "execute_result"
    }
   ],
   "source": [
    "stack=[]\n",
    "def insert(e):\n",
    "     stack.append(e)\n",
    "     print(\"element insert into stack:\")\n",
    "     print(stack)\n",
    "def delete():\n",
    "    print(\"element removed from stack:\")\n",
    "    return stack.pop()\n",
    "    \n",
    "insert(9)\n",
    "insert(8)\n",
    "insert(7)\n",
    "delete()\n",
    "delete()\n",
    "\n",
    "\n"
   ]
  },
  {
   "cell_type": "code",
   "execution_count": 25,
   "id": "281134e7-8eca-4c99-bbb6-e4bd2acc53be",
   "metadata": {},
   "outputs": [
    {
     "name": "stdout",
     "output_type": "stream",
     "text": [
      "element enqueued into queue:\n",
      "[0]\n",
      "element enqueued into queue:\n",
      "[0, 2]\n",
      "element enqueued into queue:\n",
      "[0, 2, 3]\n"
     ]
    }
   ],
   "source": [
    "queue=[]\n",
    "def enqueue(e):\n",
    "     queue.append(e)\n",
    "     print(\"element enqueued into queue:\")\n",
    "     print(queue)\n",
    "def dequeue():\n",
    "    print(\"element dequeued from queue:\")\n",
    "    return queue.dequeue(10) \n",
    "enqueue(0)\n",
    "enqueue(2)\n",
    "enqueue(3)\n",
    "\n",
    "\n",
    "\n",
    "\n",
    "    \n"
   ]
  },
  {
   "cell_type": "code",
   "execution_count": null,
   "id": "45169d0d-7427-4869-85a1-5a88ca8b3479",
   "metadata": {},
   "outputs": [],
   "source": []
  }
 ],
 "metadata": {
  "kernelspec": {
   "display_name": "Python 3 (ipykernel)",
   "language": "python",
   "name": "python3"
  },
  "language_info": {
   "codemirror_mode": {
    "name": "ipython",
    "version": 3
   },
   "file_extension": ".py",
   "mimetype": "text/x-python",
   "name": "python",
   "nbconvert_exporter": "python",
   "pygments_lexer": "ipython3",
   "version": "3.12.3"
  }
 },
 "nbformat": 4,
 "nbformat_minor": 5
}
